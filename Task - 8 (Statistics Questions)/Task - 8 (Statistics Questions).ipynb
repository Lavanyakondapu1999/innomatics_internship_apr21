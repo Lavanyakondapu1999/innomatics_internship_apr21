{
 "cells": [
  {
   "cell_type": "code",
   "execution_count": 1,
   "metadata": {},
   "outputs": [
    {
     "name": "stdout",
     "output_type": "stream",
     "text": [
      "0.696\n"
     ]
    }
   ],
   "source": [
    "#Day 4: Binomial Distribution I\n",
    "\n",
    "\n",
    "import math\n",
    "\n",
    "\n",
    "p = 1.09/(1+1.09)\n",
    "ans = 0\n",
    "for i in range(3):\n",
    "    ans += math.factorial(6) / math.factorial(i) / math.factorial(6-i) * p**i * (1-p)**(6-i)\n",
    "print(round(1-ans, 3))\n",
    "#i=3"
   ]
  },
  {
   "cell_type": "code",
   "execution_count": 2,
   "metadata": {},
   "outputs": [
    {
     "name": "stdout",
     "output_type": "stream",
     "text": [
      "0.891\n",
      "0.342\n"
     ]
    }
   ],
   "source": [
    "#Day 4: Binomial Distribution II\n",
    "\n",
    "import math\n",
    "\n",
    "\n",
    "p = 0.12\n",
    "ans1 = 0\n",
    "for i in range(0, 3):\n",
    "    ans1 += math.factorial(10)/math.factorial(i)/math.factorial(10-i) * p**i * (1-p)**(10-i)\n",
    "    if i == 1:\n",
    "        ans2 = 1 - ans1\n",
    "\n",
    "print(round(ans1, 3))\n",
    "print(round(ans2, 3))\n",
    "#i=1"
   ]
  },
  {
   "cell_type": "code",
   "execution_count": 3,
   "metadata": {},
   "outputs": [
    {
     "name": "stdout",
     "output_type": "stream",
     "text": [
      "0.401\n",
      "0.341\n"
     ]
    }
   ],
   "source": [
    "#Day 5: Normal Distribution I\n",
    "\n",
    "import math\n",
    "\n",
    "\n",
    "def cdf(x, mean, std):\n",
    "    return 1/2*(1+math.erf((x-mean) / std / 2**(1/2)))\n",
    "\n",
    "\n",
    "mean = 20\n",
    "std = 2\n",
    "\n",
    "# Less than 19.5 hours\n",
    "print(round(cdf(19.5, mean, std), 3))\n",
    "# Between 20 and 22 hours?\n",
    "print(round(cdf(22, mean, std) - cdf(20, mean, std), 3))\n",
    "#x=19"
   ]
  },
  {
   "cell_type": "code",
   "execution_count": 4,
   "metadata": {},
   "outputs": [
    {
     "name": "stdout",
     "output_type": "stream",
     "text": [
      "15.87\n",
      "84.13\n",
      "15.87\n"
     ]
    }
   ],
   "source": [
    "#Day 5: Normal Distribution II\n",
    "    \n",
    "import math\n",
    "\n",
    "\n",
    "def cdf(x, mean, std):\n",
    "    return 1/2*(1+math.erf((x-mean) / std / 2**(1/2)))\n",
    "\n",
    "\n",
    "mean = 70\n",
    "std = 10\n",
    "\n",
    "# Scored higher than 80\n",
    "print(round((1 - cdf(80, mean, std))*100, 2))\n",
    "# Passed the test (i.e., have a grade >= 60)?\n",
    "print(round((1 - cdf(60, mean, std))*100, 2))\n",
    "# Failed the test (i.e., have a grade < 60)?\n",
    "print(round(cdf(60, mean, std)*100, 2))\n",
    "\n",
    "#x=81"
   ]
  },
  {
   "cell_type": "code",
   "execution_count": 5,
   "metadata": {},
   "outputs": [
    {
     "name": "stdout",
     "output_type": "stream",
     "text": [
      "0.0098\n"
     ]
    }
   ],
   "source": [
    "#Day 6: The Central Limit Theorem I\n",
    "\n",
    "import math\n",
    "\n",
    "\n",
    "def cdf(x, mean, std):\n",
    "    return 1/2*(1+math.erf((x-mean) / std / 2**(1/2)))\n",
    "\n",
    "\n",
    "# inputs\n",
    "mean = 205\n",
    "std = 15\n",
    "n = 49\n",
    "target = 9800\n",
    "\n",
    "# characteristics of sum\n",
    "mean_s = n * mean\n",
    "std_s = std * n**(1/2)\n",
    "\n",
    "# Find the probability that sum <= 9800\n",
    "print(round(cdf(target, mean_s, std_s), 4))\n",
    "#x=206"
   ]
  },
  {
   "cell_type": "code",
   "execution_count": 6,
   "metadata": {},
   "outputs": [
    {
     "name": "stdout",
     "output_type": "stream",
     "text": [
      "0.6915\n"
     ]
    }
   ],
   "source": [
    "#Day 6: The Central Limit Theorem II\n",
    "\n",
    "import math\n",
    "\n",
    "\n",
    "def cdf(x, mean, std):\n",
    "    return 1/2*(1+math.erf((x-mean) / std / 2**(1/2)))\n",
    "\n",
    "# inputs\n",
    "mean = 2.4\n",
    "std = 2\n",
    "n = 100\n",
    "target = 250\n",
    "\n",
    "# characteristics of sum\n",
    "mean_s = n * mean\n",
    "std_s = std * n**(1/2)\n",
    "\n",
    "# Find the probability that sum <= 250\n",
    "print(round(cdf(target, mean_s, std_s), 4))\n",
    "x=3"
   ]
  },
  {
   "cell_type": "code",
   "execution_count": 7,
   "metadata": {},
   "outputs": [
    {
     "name": "stdout",
     "output_type": "stream",
     "text": [
      "484.32\n",
      "515.68\n"
     ]
    }
   ],
   "source": [
    "#Day 6: The Central Limit Theorem III\n",
    "\n",
    "mean = 500\n",
    "std = 80\n",
    "n = 100\n",
    "z = 1.96\n",
    "\n",
    "# characteristics of sample\n",
    "mean = mean\n",
    "std = std / n**(1/2)\n",
    "\n",
    "# Find the 95% interval\n",
    "print(round(mean - std * z, 2))\n",
    "print(round(mean + std * z, 2))\n",
    "#mean=500"
   ]
  },
  {
   "cell_type": "code",
   "execution_count": 8,
   "metadata": {},
   "outputs": [
    {
     "name": "stdout",
     "output_type": "stream",
     "text": [
      "10\n",
      "10 9.8 8 7.8 7.7 7 6 5 4 2 \n",
      "200 44 32 24 22 17 15 12 8 4\n",
      "0.612\n"
     ]
    }
   ],
   "source": [
    "#Day 7: Pearson Correlation Coefficient\n",
    "\n",
    "N = int(input())\n",
    "X = list(map(float,input().strip().split()))\n",
    "Y = list(map(float,input().strip().split()))\n",
    "\n",
    "mu_x = sum(X) / N\n",
    "mu_y = sum(Y) / N\n",
    "\n",
    "stdv_x = (sum([(i - mu_x)**2 for i in X]) / N)**0.5\n",
    "stdv_y = (sum([(i - mu_y)**2 for i in Y]) / N)**0.5\n",
    "\n",
    "\n",
    "covariance = sum([(X[i] - mu_x) * (Y[i] -mu_y) for i in range(N)])\n",
    "\n",
    "correlation_coefficient = covariance / (N * stdv_x * stdv_y)\n",
    "\n",
    "print(round(correlation_coefficient,3))"
   ]
  },
  {
   "cell_type": "code",
   "execution_count": 10,
   "metadata": {},
   "outputs": [
    {
     "name": "stdout",
     "output_type": "stream",
     "text": [
      "95 85\n",
      "85 70\n",
      "75 80\n",
      "80 75\n",
      "85 95\n",
      "79.54545454545455\n"
     ]
    }
   ],
   "source": [
    "#Day 8: Least Square Regression Line\n",
    "\n",
    "\n",
    "maths, stats = [],[]\n",
    "\n",
    "for i in range(5):\n",
    "    m, s= map(int,input().split())\n",
    "    maths.append(m)\n",
    "    stats.append(s)\n",
    "\n",
    "def b_value(x,y):\n",
    "    n = len(x)\n",
    "    xy =[x[i]*y[i] for i in range(n) ]\n",
    "    x_square = [i**2 for i in x]\n",
    "    # y_square = [i**2 for i in y]\n",
    "    \n",
    "    b = (n*(sum(xy))-((sum(x)*sum(y))))/float(((n*sum(x_square))-sum(x)**2))\n",
    "    return b\n",
    "    \n",
    "def ab_values(x,y):\n",
    "    x_mean = sum(x)/float(len(x))    \n",
    "    y_mean = sum(y)/float(len(y))\n",
    "    b = b_value(x,y)\n",
    "    a = y_mean - b*x_mean\n",
    "    return a,b\n",
    "    \n",
    "a,b = ab_values(maths,stats)\n",
    "print (a + b*80)"
   ]
  },
  {
   "cell_type": "code",
   "execution_count": null,
   "metadata": {},
   "outputs": [],
   "source": [
    "# Day 9: Multiple Linear Regression\n",
    "\n",
    "linel=list(map(int,input().split()))\n",
    "m=linel[0]\n",
    "n=linel[1]\n",
    "x=[]\n",
    "y=[]\n",
    "for i in range(n):\n",
    "    line = list(map(float,input().split()))\n",
    "    x.append(line[:m])\n",
    "    y.append(line[m])\n",
    "from sklearn import linear_model\n",
    "lm = linear_model.LinearRegression()\n",
    "lm.fit(x, y)\n",
    "a = lm.intercept_\n",
    "b = lm.coef_\n",
    "\n",
    "import numpy as np\n",
    "n1=int(input())\n",
    "\n",
    "for j in range(n1):\n",
    "    line=list(map(float,input().split()))\n",
    "    y=a+np.dot(line,b)\n",
    "    print(round(y,2))"
   ]
  },
  {
   "cell_type": "code",
   "execution_count": null,
   "metadata": {},
   "outputs": [],
   "source": []
  }
 ],
 "metadata": {
  "kernelspec": {
   "display_name": "Python 3",
   "language": "python",
   "name": "python3"
  },
  "language_info": {
   "codemirror_mode": {
    "name": "ipython",
    "version": 3
   },
   "file_extension": ".py",
   "mimetype": "text/x-python",
   "name": "python",
   "nbconvert_exporter": "python",
   "pygments_lexer": "ipython3",
   "version": "3.8.5"
  }
 },
 "nbformat": 4,
 "nbformat_minor": 4
}
