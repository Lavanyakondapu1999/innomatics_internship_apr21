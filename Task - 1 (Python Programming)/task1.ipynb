{
 "cells": [
  {
   "cell_type": "code",
   "execution_count": 2,
   "metadata": {},
   "outputs": [
    {
     "name": "stdout",
     "output_type": "stream",
     "text": [
      "Hello, World!\n"
     ]
    }
   ],
   "source": [
    "#Question 1--Say \"Hello, World!\" With Python\n",
    "\n",
    "print(\"Hello,\"+\" \"+\"World\"+\"!\")"
   ]
  },
  {
   "cell_type": "code",
   "execution_count": 19,
   "metadata": {},
   "outputs": [
    {
     "name": "stdout",
     "output_type": "stream",
     "text": [
      "enter number:34\n",
      "34 Not Weird\n"
     ]
    }
   ],
   "source": [
    "#Question 2--Python If-Else\n",
    "\n",
    "n=int(input(\"enter number:\"))\n",
    "if n%2==0:\n",
    "    if n in range(2,6):\n",
    "        print(n,\"Not Weird\")\n",
    "    elif n in range(6,20):\n",
    "        print(n,\"Weird\")\n",
    "    elif n>20:\n",
    "        print(n,\"Not Weird\")\n",
    "else:\n",
    "        print(n,\"Weird\")\n",
    "      "
   ]
  },
  {
   "cell_type": "code",
   "execution_count": 23,
   "metadata": {},
   "outputs": [
    {
     "name": "stdout",
     "output_type": "stream",
     "text": [
      "4\n",
      "5\n",
      "addition of a,b: 9\n",
      "substraction of a,b: -1\n",
      "multiplication of a,b: 20\n"
     ]
    }
   ],
   "source": [
    "#Question 3--Arithmetic Operators\n",
    "a = int(input())\n",
    "b = int(input())\n",
    "\n",
    "print(\"addition of a,b:\",a+b)\n",
    "print(\"substraction of a,b:\",a-b)\n",
    "print(\"multiplication of a,b:\",a*b)"
   ]
  },
  {
   "cell_type": "code",
   "execution_count": 26,
   "metadata": {},
   "outputs": [
    {
     "name": "stdout",
     "output_type": "stream",
     "text": [
      "5\n",
      "7\n",
      "modulo of a,b: 0\n",
      "division of a,b: 0.7142857142857143\n"
     ]
    }
   ],
   "source": [
    "#Question 4--Python: Division\n",
    "a = int(input())\n",
    "b = int(input())\n",
    "print(\"modulo of a,b:\",a//b)\n",
    "print(\"division of a,b:\",a/b)\n"
   ]
  },
  {
   "cell_type": "code",
   "execution_count": 29,
   "metadata": {},
   "outputs": [
    {
     "name": "stdout",
     "output_type": "stream",
     "text": [
      "8\n",
      "******\n",
      "0\n",
      "1\n",
      "4\n",
      "9\n",
      "16\n",
      "25\n",
      "36\n",
      "49\n"
     ]
    }
   ],
   "source": [
    "#Question 5--Loops\n",
    "n = int(input())\n",
    "print(\"******\")\n",
    "for i in range(0,n):\n",
    "    print(i*i)"
   ]
  },
  {
   "cell_type": "code",
   "execution_count": 31,
   "metadata": {},
   "outputs": [
    {
     "name": "stdout",
     "output_type": "stream",
     "text": [
      "5689\n",
      "False\n"
     ]
    }
   ],
   "source": [
    "#Question 6--Write a function\n",
    "def is_leap(year):\n",
    "    if year % 400 ==0:\n",
    "        return True\n",
    "    if year % 100 ==0:\n",
    "        return False\n",
    "    if year % 4 ==0:\n",
    "        return True\n",
    "    return False   \n",
    "year = int(input())\n",
    "print(is_leap(year))"
   ]
  },
  {
   "cell_type": "code",
   "execution_count": 33,
   "metadata": {},
   "outputs": [
    {
     "name": "stdout",
     "output_type": "stream",
     "text": [
      "7\n",
      "1234567"
     ]
    }
   ],
   "source": [
    "#Question 7--Print Function\n",
    "a=int(input())\n",
    "for i in range(1,a+1):\n",
    "    print(i,end='')\n"
   ]
  },
  {
   "cell_type": "code",
   "execution_count": null,
   "metadata": {},
   "outputs": [],
   "source": []
  }
 ],
 "metadata": {
  "kernelspec": {
   "display_name": "Python 3",
   "language": "python",
   "name": "python3"
  },
  "language_info": {
   "codemirror_mode": {
    "name": "ipython",
    "version": 3
   },
   "file_extension": ".py",
   "mimetype": "text/x-python",
   "name": "python",
   "nbconvert_exporter": "python",
   "pygments_lexer": "ipython3",
   "version": "3.8.5"
  }
 },
 "nbformat": 4,
 "nbformat_minor": 4
}
