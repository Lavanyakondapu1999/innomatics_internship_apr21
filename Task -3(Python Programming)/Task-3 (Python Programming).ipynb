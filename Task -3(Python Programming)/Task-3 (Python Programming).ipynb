{
 "cells": [
  {
   "cell_type": "code",
   "execution_count": 1,
   "metadata": {},
   "outputs": [
    {
     "name": "stdout",
     "output_type": "stream",
     "text": [
      "1+2j\n",
      "2.23606797749979\n",
      "1.1071487177940904\n"
     ]
    }
   ],
   "source": [
    "#Question 1  --Polar Coordinates\n",
    "\n",
    "import cmath\n",
    "c=complex(input().strip())\n",
    "#print(c)\n",
    "#print(cmath.polar(c))\n",
    "for i in cmath.polar(c):\n",
    "    print(i)\n"
   ]
  },
  {
   "cell_type": "code",
   "execution_count": 2,
   "metadata": {},
   "outputs": [
    {
     "name": "stdout",
     "output_type": "stream",
     "text": [
      "117\n",
      "10\n",
      "11\n",
      "7\n",
      "(11, 7)\n"
     ]
    }
   ],
   "source": [
    "#Question 2 --Mod Divmod\n",
    "\n",
    "n1=int(input())\n",
    "n2=int(input())\n",
    "num=divmod(n1,n2)\n",
    "print(num[0])\n",
    "print(num[1])\n",
    "print(num)"
   ]
  },
  {
   "cell_type": "code",
   "execution_count": 4,
   "metadata": {},
   "outputs": [
    {
     "name": "stdout",
     "output_type": "stream",
     "text": [
      "3\n",
      "4\n",
      "5\n",
      "81\n",
      "1\n"
     ]
    }
   ],
   "source": [
    "#Question 3 --Power-Mod Power\n",
    "\n",
    "import math\n",
    "a=int(input())\n",
    "b=int(input())\n",
    "c=int(input())\n",
    "a1=pow(a,b)\n",
    "b1=pow(a,b,c)\n",
    "print(a1)\n",
    "print(b1)"
   ]
  },
  {
   "cell_type": "code",
   "execution_count": 5,
   "metadata": {},
   "outputs": [
    {
     "name": "stdout",
     "output_type": "stream",
     "text": [
      "4\n",
      "5\n",
      "6\n",
      "7\n",
      "280960\n"
     ]
    }
   ],
   "source": [
    "#Question 4--Integers Come In All Sizes\n",
    "\n",
    "import math\n",
    "a=int(input())\n",
    "b=int(input())\n",
    "c=int(input())\n",
    "d=int(input())\n",
    "res=(pow(a,b)+pow(c,d))\n",
    "print(res)"
   ]
  },
  {
   "cell_type": "code",
   "execution_count": 7,
   "metadata": {},
   "outputs": [
    {
     "name": "stdout",
     "output_type": "stream",
     "text": [
      "10\n",
      "10\n",
      "45°\n"
     ]
    }
   ],
   "source": [
    "#Question 5 --Find Angle MBC\n",
    "\n",
    "import math\n",
    "AB=int(input())\n",
    "BC=int(input())\n",
    "tita=(math.atan(AB/BC))\n",
    "#here atan refers to tan inverse\n",
    "tita_to_degree=round(math.degrees(tita))\n",
    "print(tita_to_degree,chr(176),sep='')\n",
    "#here 176 refers to degree symbol\n"
   ]
  },
  {
   "cell_type": "code",
   "execution_count": 8,
   "metadata": {},
   "outputs": [
    {
     "name": "stdout",
     "output_type": "stream",
     "text": [
      "5\n",
      "1\n",
      "121\n",
      "12321\n",
      "1234321\n",
      "123454321\n"
     ]
    }
   ],
   "source": [
    "#Question 6 --Triangle Quest 2\n",
    "1\n",
    "121\n",
    "12321\n",
    "1234321\n",
    "123454321\n",
    "\n",
    "\n",
    "for i in range(1,int(input())+1):\n",
    "    print((pow(10,i)//9)**2)"
   ]
  },
  {
   "cell_type": "code",
   "execution_count": 9,
   "metadata": {},
   "outputs": [
    {
     "name": "stdout",
     "output_type": "stream",
     "text": [
      "5\n",
      "1\n",
      "22\n",
      "333\n",
      "4444\n"
     ]
    }
   ],
   "source": [
    "#Question 7 --Triangle Quest \n",
    "1\n",
    "22\n",
    "333\n",
    "4444\n",
    "\n",
    "for i in range(1,int(input())): \n",
    "    print((pow(10,i)//9)*i)"
   ]
  }
 ],
 "metadata": {
  "kernelspec": {
   "display_name": "Python 3",
   "language": "python",
   "name": "python3"
  },
  "language_info": {
   "codemirror_mode": {
    "name": "ipython",
    "version": 3
   },
   "file_extension": ".py",
   "mimetype": "text/x-python",
   "name": "python",
   "nbconvert_exporter": "python",
   "pygments_lexer": "ipython3",
   "version": "3.8.5"
  }
 },
 "nbformat": 4,
 "nbformat_minor": 4
}
