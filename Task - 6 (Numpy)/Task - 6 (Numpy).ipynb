{
 "cells": [
  {
   "cell_type": "code",
   "execution_count": 2,
   "metadata": {},
   "outputs": [],
   "source": [
    "import numpy as np"
   ]
  },
  {
   "cell_type": "code",
   "execution_count": 13,
   "metadata": {},
   "outputs": [
    {
     "name": "stdout",
     "output_type": "stream",
     "text": [
      "1 4 5 4 9\n",
      "[9. 4. 5. 4. 1.]\n"
     ]
    }
   ],
   "source": [
    "#Question -1 Arrays\n",
    "\n",
    "\n",
    "\n",
    "def arrays(arr):\n",
    "    # complete this function\n",
    "    # use numpy.array\n",
    "    return numpy.array(arr[::-1],float)\n",
    "    #print(a[::-1])\n",
    "    \n",
    "    \n",
    "\n",
    "arr = input().strip().split(' ')\n",
    "result = arrays(arr)\n",
    "print(result)"
   ]
  },
  {
   "cell_type": "code",
   "execution_count": 7,
   "metadata": {},
   "outputs": [
    {
     "name": "stdout",
     "output_type": "stream",
     "text": [
      "1 2 3 4 5 6 7 8 9\n",
      "[[1 2 3]\n",
      " [4 5 6]\n",
      " [7 8 9]]\n"
     ]
    }
   ],
   "source": [
    "#Question 2--Shape and Reshape\n",
    "\n",
    "l=list(map(int,input().split()))\n",
    "arr=np.array(l)\n",
    "arr.shape=(3,3)\n",
    "print(arr)"
   ]
  },
  {
   "cell_type": "code",
   "execution_count": 9,
   "metadata": {},
   "outputs": [
    {
     "name": "stdout",
     "output_type": "stream",
     "text": [
      "2 2\n",
      "1 7\n",
      "5 9\n",
      "[[1 5]\n",
      " [7 9]]\n",
      "[1 7 5 9]\n"
     ]
    }
   ],
   "source": [
    "#Question 3--Transpose and Flatten\n",
    "\n",
    "\n",
    "n,m=map(int,input().split())\n",
    "list1=[]\n",
    "for i in range (n):\n",
    "    a = list(map(int,input().split()))\n",
    "    list1.append(a)\n",
    "arr=np.array(list1)\n",
    "print(np.transpose(arr))\n",
    "print(arr.flatten())"
   ]
  },
  {
   "cell_type": "code",
   "execution_count": 11,
   "metadata": {},
   "outputs": [
    {
     "name": "stdout",
     "output_type": "stream",
     "text": [
      "4 3 2\n",
      "1 2\n",
      "1 2\n",
      "1 2\n",
      "1 2\n",
      "3 4\n",
      "3 4\n",
      "3 4\n",
      "[[1 2]\n",
      " [1 2]\n",
      " [1 2]\n",
      " [1 2]\n",
      " [3 4]\n",
      " [3 4]\n",
      " [3 4]]\n"
     ]
    }
   ],
   "source": [
    "#Question 4 --Concatenate\n",
    "\n",
    "\n",
    "n,m,p=map(int,input().split())\n",
    "list1=[]\n",
    "list2=[]\n",
    "for i in range(n):\n",
    "    a=list(map(int,input().split()))\n",
    "    list1.append(a)\n",
    "for i in range(m):\n",
    "    b=list(map(int,input().split()))\n",
    "    list2.append(b)\n",
    "arr1=np.array(list1)\n",
    "arr2=np.array(list2)\n",
    "print(np.concatenate((arr1,arr2),axis=0))"
   ]
  },
  {
   "cell_type": "code",
   "execution_count": 12,
   "metadata": {},
   "outputs": [
    {
     "name": "stdout",
     "output_type": "stream",
     "text": [
      "2 2 2\n",
      "[[[0 0]\n",
      "  [0 0]]\n",
      "\n",
      " [[0 0]\n",
      "  [0 0]]]\n",
      "[[[1 1]\n",
      "  [1 1]]\n",
      "\n",
      " [[1 1]\n",
      "  [1 1]]]\n"
     ]
    }
   ],
   "source": [
    "#Question 5--Zeros and Ones\n",
    "\n",
    "\n",
    "a=tuple(map(int,input().split()))\n",
    "print(np.zeros(a,dtype=np.int))\n",
    "print(np.ones(a,dtype=np.int))"
   ]
  },
  {
   "cell_type": "code",
   "execution_count": 16,
   "metadata": {},
   "outputs": [
    {
     "name": "stdout",
     "output_type": "stream",
     "text": [
      "2 4\n",
      "[[ 1.  0.  0.  0.]\n",
      " [ 0.  1.  0.  0.]]\n"
     ]
    }
   ],
   "source": [
    "#Question 6--Eye and Identity\n",
    "\n",
    "a,b=map(int,input().split())\n",
    "np.set_printoptions(sign=\" \")\n",
    "print(np.eye(a,b))\n"
   ]
  },
  {
   "cell_type": "code",
   "execution_count": 15,
   "metadata": {},
   "outputs": [
    {
     "name": "stdout",
     "output_type": "stream",
     "text": [
      "1 4\n",
      "1 2 3 4\n",
      "5 6 7 8\n",
      "[[ 6  8 10 12]]\n",
      "[[-4 -4 -4 -4]]\n",
      "[[ 5 12 21 32]]\n",
      "[[0 0 0 0]]\n",
      "[[1 2 3 4]]\n",
      "[[    1    64  2187 65536]]\n"
     ]
    }
   ],
   "source": [
    "#Question 7--Array Mathematics\n",
    "\n",
    "\n",
    "A,B=map(int,input().split())\n",
    "a=np.array([list(map(int,input().split())) for _ in range(A)],int)\n",
    "b=np.array([list(map(int,input().split())) for _ in range(A)],int)\n",
    "print(np.add(a,b),np.subtract(a,b),np.multiply(a,b),np.floor_divide(a,b),np.mod(a,b),np.power(a,b),sep=\"\\n\")\n"
   ]
  },
  {
   "cell_type": "code",
   "execution_count": 4,
   "metadata": {},
   "outputs": [
    {
     "name": "stdout",
     "output_type": "stream",
     "text": [
      "2 2\n",
      "1 4\n",
      "3 2\n",
      "24\n"
     ]
    }
   ],
   "source": [
    "#Question 8--Sum and Product\n",
    "a,b=map(int,input().split())\n",
    "list1=[]\n",
    "for i in range(a):\n",
    "    l=list(map(int,input().split()))\n",
    "    list1.append(l)\n",
    "arr=np.array(list1)\n",
    "print(np.prod(np.sum(arr,axis=0),axis=0))\n"
   ]
  },
  {
   "cell_type": "code",
   "execution_count": 6,
   "metadata": {},
   "outputs": [
    {
     "name": "stdout",
     "output_type": "stream",
     "text": [
      "2 4\n",
      "6 7\n",
      "8 4\n",
      "6\n"
     ]
    }
   ],
   "source": [
    "#Question 9--Min and Max\n",
    "a,b=map(int,input().split())\n",
    "list1=[]\n",
    "for i in range(a):\n",
    "    l=list(map(int,input().split()))\n",
    "    list1.append(l)\n",
    "arr=np.array(list1)\n",
    "print(np.max(np.min(arr,axis=1)))"
   ]
  },
  {
   "cell_type": "code",
   "execution_count": 10,
   "metadata": {},
   "outputs": [
    {
     "name": "stdout",
     "output_type": "stream",
     "text": [
      "2 2\n",
      "1 2\n",
      "3 4\n",
      "[ 1.5  3.5]\n",
      "[ 1.  1.]\n",
      "1.11803398875\n"
     ]
    }
   ],
   "source": [
    "# Question 10--Mean, Var, and Std\n",
    "\n",
    "a,b=list(map(int,input().split()))\n",
    "arr=np.array([input().split() for i in range(a)],dtype=int)\n",
    "print(np.mean(arr, axis=1))\n",
    "print(np.var(arr, axis=0))\n",
    "np.set_printoptions(sign=\" \")\n",
    "output=np.std(arr)\n",
    "print(output.round(12))\n",
    "\n"
   ]
  },
  {
   "cell_type": "code",
   "execution_count": 3,
   "metadata": {},
   "outputs": [
    {
     "name": "stdout",
     "output_type": "stream",
     "text": [
      "1.1 2.2 3.3 4.4 5.5 6.6 7.7 8.8 9.9\n",
      "[ 1.  2.  3.  4.  5.  6.  7.  8.  9.]\n",
      "[  2.   3.   4.   5.   6.   7.   8.   9.  10.]\n",
      "[  1.   2.   3.   4.   6.   7.   8.   9.  10.]\n"
     ]
    }
   ],
   "source": [
    "#Question 11--Floor, Ceil and Rint\n",
    "a=list(map(float,input().split()))\n",
    "arr=np.array(a)\n",
    "np.set_printoptions(sign=\" \")\n",
    "print(np.floor(arr))\n",
    "print(np.ceil(arr))\n",
    "print(np.rint(arr))\n"
   ]
  },
  {
   "cell_type": "code",
   "execution_count": 18,
   "metadata": {},
   "outputs": [
    {
     "name": "stdout",
     "output_type": "stream",
     "text": [
      "2\n",
      "1.1 1.1\n",
      "2.2 2.2\n",
      "0.0\n"
     ]
    }
   ],
   "source": [
    "#Question 12--Linear Algebra\n",
    "n=int(input())\n",
    "list1=[]\n",
    "for i in range(n):\n",
    "    l1=list(map(float,input().split()))\n",
    "    list1.append(l1)\n",
    "arr1=np.array(list1)\n",
    "\n",
    "p=np.linalg.det(arr1)\n",
    "print(round(p,2))\n"
   ]
  },
  {
   "cell_type": "code",
   "execution_count": 22,
   "metadata": {},
   "outputs": [
    {
     "name": "stdout",
     "output_type": "stream",
     "text": [
      "1.1 2 3\n",
      "0\n",
      "3.0\n"
     ]
    }
   ],
   "source": [
    "#Question 13--Polynomials\n",
    "\n",
    "a=list(map(float,input().split()))\n",
    "x=int(input())\n",
    "arr=np.array(a)\n",
    "print(np.polyval(arr,x))\n"
   ]
  },
  {
   "cell_type": "code",
   "execution_count": 8,
   "metadata": {},
   "outputs": [
    {
     "name": "stdout",
     "output_type": "stream",
     "text": [
      "0 1\n",
      "2 3\n",
      "3\n",
      "[[0 0]\n",
      " [2 3]]\n"
     ]
    }
   ],
   "source": [
    "#Question 14--Inner and Outer\n",
    "\n",
    "a=np.array(input().split(),int)\n",
    "b=np.array(input().split(),int)\n",
    "print(np.inner(a,b))\n",
    "print(np.outer(a,b))\n",
    "\n"
   ]
  },
  {
   "cell_type": "code",
   "execution_count": 9,
   "metadata": {},
   "outputs": [
    {
     "name": "stdout",
     "output_type": "stream",
     "text": [
      "2\n",
      "1 4\n",
      "3 7\n",
      "2 8\n",
      "9 5\n",
      "[[38 28]\n",
      " [69 59]]\n"
     ]
    }
   ],
   "source": [
    "#Question 15--Dot and Cross\n",
    "n=int(input())\n",
    "a=np.array([input().split() for _ in range(n)],int)\n",
    "b=np.array([input().split() for _ in range(n)],int)\n",
    "c=np.dot(a,b)\n",
    "print(c)\n"
   ]
  }
 ],
 "metadata": {
  "kernelspec": {
   "display_name": "Python 3",
   "language": "python",
   "name": "python3"
  },
  "language_info": {
   "codemirror_mode": {
    "name": "ipython",
    "version": 3
   },
   "file_extension": ".py",
   "mimetype": "text/x-python",
   "name": "python",
   "nbconvert_exporter": "python",
   "pygments_lexer": "ipython3",
   "version": "3.8.5"
  }
 },
 "nbformat": 4,
 "nbformat_minor": 4
}
